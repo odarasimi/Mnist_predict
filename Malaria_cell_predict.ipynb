{
  "nbformat": 4,
  "nbformat_minor": 0,
  "metadata": {
    "colab": {
      "name": "Malaria_cell_predict.ipynb",
      "provenance": [],
      "collapsed_sections": [],
      "authorship_tag": "ABX9TyMA3jdYRd1rmBpdw+NM+o7o",
      "include_colab_link": true
    },
    "kernelspec": {
      "name": "python3",
      "display_name": "Python 3"
    }
  },
  "cells": [
    {
      "cell_type": "markdown",
      "metadata": {
        "id": "view-in-github",
        "colab_type": "text"
      },
      "source": [
        "<a href=\"https://colab.research.google.com/github/odarasimi/cell_malaria_predict/blob/master/Malaria_cell_predict.ipynb\" target=\"_parent\"><img src=\"https://colab.research.google.com/assets/colab-badge.svg\" alt=\"Open In Colab\"/></a>"
      ]
    },
    {
      "cell_type": "code",
      "metadata": {
        "id": "h7QVCWco9Btj",
        "colab_type": "code",
        "colab": {}
      },
      "source": [
        "import tensorflow as tf\n",
        "import numpy as np\n",
        "from tensorflow import keras\n",
        "import matplotlib.pyplot as plt\n",
        "import pandas as pd\n",
        "import cv2\n",
        "from sklearn.preprocessing import LabelEncoder, OneHotEncoder\n",
        "from keras.models import Sequential\n",
        "from keras.layers import Conv2D\n",
        "from keras.layers import Dense, Dropout\n",
        "from keras.layers import MaxPooling2D"
      ],
      "execution_count": 1,
      "outputs": []
    },
    {
      "cell_type": "code",
      "metadata": {
        "id": "7_IX9u8OvClJ",
        "colab_type": "code",
        "colab": {}
      },
      "source": [
        "from google.colab import files\n",
        "training_data = files.upload()"
      ],
      "execution_count": null,
      "outputs": []
    },
    {
      "cell_type": "code",
      "metadata": {
        "id": "C2TFhTG9wCrA",
        "colab_type": "code",
        "colab": {}
      },
      "source": [
        "from google.colab import files\n",
        "test_data = files.upload()"
      ],
      "execution_count": null,
      "outputs": []
    },
    {
      "cell_type": "code",
      "metadata": {
        "id": "WrSgQ-cRz61Y",
        "colab_type": "code",
        "colab": {}
      },
      "source": [
        "df1 = pd.read_csv(io.BytesIO(training_data[\"train.csv\"])) \n",
        "df2 = pd.read_csv(io.BytesIO(test_data[\"test.csv\"]))\n",
        "df1.head()"
      ],
      "execution_count": null,
      "outputs": []
    },
    {
      "cell_type": "code",
      "metadata": {
        "id": "MQl4BaCeuxr7",
        "colab_type": "code",
        "colab": {
          "base_uri": "https://localhost:8080/",
          "height": 34
        },
        "outputId": "c566bf56-dc4e-4498-f072-22f7f6af50b9"
      },
      "source": [
        "X_train = df1.drop([\"label\"], 1).values\n",
        "y_train = df1[\"label\"].values\n",
        "X_test = df2.drop([\"label\"], 1).values\n",
        "y_test = df2[\"label\"].values\n",
        "print (X_train.shape)"
      ],
      "execution_count": null,
      "outputs": [
        {
          "output_type": "stream",
          "text": [
            "(22046, 2500)\n"
          ],
          "name": "stdout"
        }
      ]
    },
    {
      "cell_type": "code",
      "metadata": {
        "id": "QFBMwT5L4_IP",
        "colab_type": "code",
        "colab": {}
      },
      "source": [
        "X_train = X_train.reshape(X_train.shape[0],50,50,1)\n",
        "X_train/255.0\n",
        "X_test = X_test.reshape(X_test.shape[0],50,50,1)\n",
        "X_test/255.0"
      ],
      "execution_count": null,
      "outputs": []
    },
    {
      "cell_type": "code",
      "metadata": {
        "id": "gzx-BHpK9u1e",
        "colab_type": "code",
        "colab": {}
      },
      "source": [
        "lb = LabelEncoder()\n",
        "y_train = lb.fit_transform(y_train)\n",
        "y_test = lb.fit_transform(y_test)\n",
        "\n",
        "y_train = y_train.reshape(len(y_train), 1)\n",
        "y_test = y_test.reshape(len(y_test), 1)\n",
        "onehot_encoder = OneHotEncoder(sparse=False, categories = \"auto\")\n",
        "y_train = onehot_encoder.fit_transform(y_train)\n",
        "y_test = onehot_encoder.fit_transform(y_test)\n",
        "\n",
        "\n",
        "#using keras\n",
        "from tensorflow.keras.utils import to_categorical\n",
        "#y_trainsd = to_categorical(y_trainp)\n",
        "#y_test = to_categorical(y_test)"
      ],
      "execution_count": null,
      "outputs": []
    },
    {
      "cell_type": "code",
      "metadata": {
        "id": "SiesZ9aT3Zns",
        "colab_type": "code",
        "colab": {}
      },
      "source": [
        "model = Sequential()\n",
        "\n",
        "model.add(Conv2D(filter=16,kernel_size=3,padding=\"same\",activation=\"relu\",input_shape=(50,50,1)))\n",
        "model.add(MaxPooling2D(pool_size=2))\n",
        "\n",
        "model.add(Conv2D(filter=32,kernel_size=3,padding=\"same\",activation=\"relu\",input_shape=(50,50,1)))\n",
        "model.add(MaxPooling2D(pool_size=2))\n",
        "\n",
        "model.add(Conv2D(filter=64,kernel_size=3,padding=\"same\",activation=\"relu\",input_shape=(50,50,1)))\n",
        "model.add(MaxPooling2D(pool_size=2))\n",
        "\n",
        "model.add(Dropout(0.2))\n",
        "model.flatten\n",
        "\n",
        "model.add(Dense(250, activation=\"relu\"))\n",
        "model.add(Dropout(0.4))\n",
        "\n",
        "model.add(Dense(2, activation=\"softmax\"))\n",
        "model.summary()\n"
      ],
      "execution_count": null,
      "outputs": []
    },
    {
      "cell_type": "code",
      "metadata": {
        "id": "Ji-PWJlEPIkD",
        "colab_type": "code",
        "colab": {}
      },
      "source": [
        "model.compile(loss=\"categorical_crossentropy\",optimizer='adam',metrics=['accuracy'])\n",
        "model.fit(X_train,y_train,batch_size=50,epochs=20,verbose=1)\n",
        "predictions = model.evaluate(X_test,y_test)"
      ],
      "execution_count": null,
      "outputs": []
    },
    {
      "cell_type": "markdown",
      "metadata": {
        "id": "ehIG5o95PYky",
        "colab_type": "text"
      },
      "source": [
        "**Test**"
      ]
    },
    {
      "cell_type": "code",
      "metadata": {
        "id": "EPDsvLfaPayR",
        "colab_type": "code",
        "colab": {}
      },
      "source": [
        "test_val = 100\n",
        "plt.matshow(X_test[test_val].reshape(50,50), cmap=\"gray\")\n",
        "print (y_test[test_val])\n",
        "\n",
        "print(\"Prediction =\" model.predict([[X_test[test_val]]]))\n"
      ],
      "execution_count": null,
      "outputs": []
    }
  ]
}