{
  "nbformat": 4,
  "nbformat_minor": 0,
  "metadata": {
    "colab": {
      "name": "Mnist_predict.ipynb",
      "provenance": [],
      "collapsed_sections": [],
      "authorship_tag": "ABX9TyMoKn7l75sWa1buXVS9SkOO",
      "include_colab_link": true
    },
    "kernelspec": {
      "name": "python3",
      "display_name": "Python 3"
    }
  },
  "cells": [
    {
      "cell_type": "markdown",
      "metadata": {
        "id": "view-in-github",
        "colab_type": "text"
      },
      "source": [
        "<a href=\"https://colab.research.google.com/github/odarasimi/Mnist_predict/blob/master/Mnist_predict.ipynb\" target=\"_parent\"><img src=\"https://colab.research.google.com/assets/colab-badge.svg\" alt=\"Open In Colab\"/></a>"
      ]
    },
    {
      "cell_type": "code",
      "metadata": {
        "id": "h7QVCWco9Btj"
      },
      "source": [
        "import numpy as np\n",
        "import matplotlib.pyplot as plt\n",
        "%matplotlib inline\n",
        "import pandas as pd\n",
        "from keras import optimizers\n",
        "from keras import layers\n",
        "from keras import models\n",
        "from keras.utils import to_categorical\n",
        "from keras.models import Sequential\n",
        "from keras.layers import Conv2D\n",
        "from keras.layers import Dense, Dropout,Flatten\n",
        "from keras.layers import MaxPooling2D"
      ],
      "execution_count": 9,
      "outputs": []
    },
    {
      "cell_type": "code",
      "metadata": {
        "id": "7_IX9u8OvClJ"
      },
      "source": [
        "from tensorflow.keras.datasets import mnist\n",
        "(x_train,y_train),(x_test,y_test) = mnist.load_data()"
      ],
      "execution_count": 10,
      "outputs": []
    },
    {
      "cell_type": "code",
      "metadata": {
        "id": "C2TFhTG9wCrA",
        "outputId": "a043965a-adab-4731-d57c-6aa386faa02e",
        "colab": {
          "base_uri": "https://localhost:8080/"
        }
      },
      "source": [
        "x_test.shape"
      ],
      "execution_count": 11,
      "outputs": [
        {
          "output_type": "execute_result",
          "data": {
            "text/plain": [
              "(10000, 28, 28)"
            ]
          },
          "metadata": {
            "tags": []
          },
          "execution_count": 11
        }
      ]
    },
    {
      "cell_type": "code",
      "metadata": {
        "id": "WrSgQ-cRz61Y",
        "outputId": "cbcbbbcb-5047-4a6a-a150-1333f95790d8",
        "colab": {
          "base_uri": "https://localhost:8080/"
        }
      },
      "source": [
        "x_train[0].shape"
      ],
      "execution_count": 12,
      "outputs": [
        {
          "output_type": "execute_result",
          "data": {
            "text/plain": [
              "(28, 28)"
            ]
          },
          "metadata": {
            "tags": []
          },
          "execution_count": 12
        }
      ]
    },
    {
      "cell_type": "code",
      "metadata": {
        "id": "MQl4BaCeuxr7",
        "outputId": "5c8a7665-85d9-42d4-bcfb-6518861de73e",
        "colab": {
          "base_uri": "https://localhost:8080/",
          "height": 282
        }
      },
      "source": [
        "img = x_train[13]\n",
        "plt.imshow(img, cmap=\"gray\",interpolation=\"nearest\")"
      ],
      "execution_count": 13,
      "outputs": [
        {
          "output_type": "execute_result",
          "data": {
            "text/plain": [
              "<matplotlib.image.AxesImage at 0x7f86d3093e48>"
            ]
          },
          "metadata": {
            "tags": []
          },
          "execution_count": 13
        },
        {
          "output_type": "display_data",
          "data": {
            "image/png": "[encoded data removed]",
            "text/plain": [
              "<Figure size 432x288 with 1 Axes>"
            ]
          },
          "metadata": {
            "tags": [],
            "needs_background": "light"
          }
        }
      ]
    },
    {
      "cell_type": "code",
      "metadata": {
        "id": "QFBMwT5L4_IP"
      },
      "source": [
        "x_train = x_train.reshape(x_train.shape[0],28,28,1)\n",
        "x_train = x_train.astype(\"float32\") / 255\n",
        "x_test = x_test.reshape(x_test.shape[0],28,28,1)\n",
        "x_test = x_test.astype(\"float32\") / 255\n",
        "y_train = to_categorical(y_train)\n",
        "y_test = to_categorical(y_test)"
      ],
      "execution_count": 14,
      "outputs": []
    },
    {
      "cell_type": "code",
      "metadata": {
        "id": "gzx-BHpK9u1e",
        "outputId": "fc8bee6b-4bf0-42bf-893b-d9f451f2d8ce",
        "colab": {
          "base_uri": "https://localhost:8080/"
        }
      },
      "source": [
        "print (x_test.shape,y_test.shape)"
      ],
      "execution_count": 15,
      "outputs": [
        {
          "output_type": "stream",
          "text": [
            "(10000, 28, 28, 1) (10000, 10)\n"
          ],
          "name": "stdout"
        }
      ]
    },
    {
      "cell_type": "code",
      "metadata": {
        "id": "SiesZ9aT3Zns",
        "outputId": "11b64e33-38b3-4f2b-b4a7-109e93015d5d",
        "colab": {
          "base_uri": "https://localhost:8080/"
        }
      },
      "source": [
        "model = Sequential()\n",
        " \n",
        "model.add(Conv2D(filters=16,kernel_size=3,padding=\"same\",activation=\"relu\",input_shape=(28,28,1)))\n",
        "model.add(MaxPooling2D(2,2))\n",
        " \n",
        "model.add(Conv2D(filters=32,kernel_size=3,padding=\"same\",activation=\"relu\"))\n",
        "model.add(MaxPooling2D(2,2))\n",
        " \n",
        "model.add(Conv2D(filters=64,kernel_size=3,padding=\"same\",activation=\"relu\"))\n",
        "model.add(MaxPooling2D(2,2))\n",
        " \n",
        "model.add(Flatten())\n",
        " \n",
        "model.add(Dense(64, activation=\"relu\"))\n",
        "model.add(Dropout(0.4))\n",
        " \n",
        "model.add(Dense(128, activation=\"relu\"))\n",
        "model.add(Dropout(0.4))\n",
        " \n",
        "model.add(Dense(10, activation=\"softmax\"))\n",
        "model.summary()\n"
      ],
      "execution_count": 16,
      "outputs": [
        {
          "output_type": "stream",
          "text": [
            "Model: \"sequential\"\n",
            "_________________________________________________________________\n",
            "Layer (type)                 Output Shape              Param #   \n",
            "=================================================================\n",
            "conv2d (Conv2D)              (None, 28, 28, 16)        160       \n",
            "_________________________________________________________________\n",
            "max_pooling2d (MaxPooling2D) (None, 14, 14, 16)        0         \n",
            "_________________________________________________________________\n",
            "conv2d_1 (Conv2D)            (None, 14, 14, 32)        4640      \n",
            "_________________________________________________________________\n",
            "max_pooling2d_1 (MaxPooling2 (None, 7, 7, 32)          0         \n",
            "_________________________________________________________________\n",
            "conv2d_2 (Conv2D)            (None, 7, 7, 64)          18496     \n",
            "_________________________________________________________________\n",
            "max_pooling2d_2 (MaxPooling2 (None, 3, 3, 64)          0         \n",
            "_________________________________________________________________\n",
            "flatten (Flatten)            (None, 576)               0         \n",
            "_________________________________________________________________\n",
            "dense (Dense)                (None, 64)                36928     \n",
            "_________________________________________________________________\n",
            "dropout (Dropout)            (None, 64)                0         \n",
            "_________________________________________________________________\n",
            "dense_1 (Dense)              (None, 128)               8320      \n",
            "_________________________________________________________________\n",
            "dropout_1 (Dropout)          (None, 128)               0         \n",
            "_________________________________________________________________\n",
            "dense_2 (Dense)              (None, 10)                1290      \n",
            "=================================================================\n",
            "Total params: 69,834\n",
            "Trainable params: 69,834\n",
            "Non-trainable params: 0\n",
            "_________________________________________________________________\n"
          ],
          "name": "stdout"
        }
      ]
    },
    {
      "cell_type": "code",
      "metadata": {
        "id": "Ji-PWJlEPIkD",
        "outputId": "a84cad7e-b135-436c-a7ba-abbfb9fcb223",
        "colab": {
          "base_uri": "https://localhost:8080/"
        }
      },
      "source": [
        "model.compile(loss=\"categorical_crossentropy\",optimizer='adam',metrics=['accuracy'])\n",
        "history=model.fit(x_train,y_train,batch_size=50,epochs=20,verbose=1)\n",
        "predictions = model.evaluate(x_test,y_test)"
      ],
      "execution_count": 17,
      "outputs": [
        {
          "output_type": "stream",
          "text": [
            "Epoch 1/20\n",
            "1200/1200 [==============================] - 44s 36ms/step - loss: 0.3775 - accuracy: 0.8793\n",
            "Epoch 2/20\n",
            "1200/1200 [==============================] - 43s 36ms/step - loss: 0.1218 - accuracy: 0.9652\n",
            "Epoch 3/20\n",
            "1200/1200 [==============================] - 44s 36ms/step - loss: 0.0904 - accuracy: 0.9744\n",
            "Epoch 4/20\n",
            "1200/1200 [==============================] - 43s 36ms/step - loss: 0.0714 - accuracy: 0.9804\n",
            "Epoch 5/20\n",
            "1200/1200 [==============================] - 43s 36ms/step - loss: 0.0604 - accuracy: 0.9833\n",
            "Epoch 6/20\n",
            "1200/1200 [==============================] - 43s 36ms/step - loss: 0.0526 - accuracy: 0.9856\n",
            "Epoch 7/20\n",
            "1200/1200 [==============================] - 49s 41ms/step - loss: 0.0453 - accuracy: 0.9871\n",
            "Epoch 8/20\n",
            "1200/1200 [==============================] - 43s 36ms/step - loss: 0.0398 - accuracy: 0.9885\n",
            "Epoch 9/20\n",
            "1200/1200 [==============================] - 43s 36ms/step - loss: 0.0348 - accuracy: 0.9897\n",
            "Epoch 10/20\n",
            "1200/1200 [==============================] - 43s 36ms/step - loss: 0.0338 - accuracy: 0.9901\n",
            "Epoch 11/20\n",
            "1200/1200 [==============================] - 43s 36ms/step - loss: 0.0298 - accuracy: 0.9917\n",
            "Epoch 12/20\n",
            "1200/1200 [==============================] - 43s 36ms/step - loss: 0.0277 - accuracy: 0.9916\n",
            "Epoch 13/20\n",
            "1200/1200 [==============================] - 43s 36ms/step - loss: 0.0253 - accuracy: 0.9924\n",
            "Epoch 14/20\n",
            "1200/1200 [==============================] - 44s 36ms/step - loss: 0.0248 - accuracy: 0.9934\n",
            "Epoch 15/20\n",
            "1200/1200 [==============================] - 44s 37ms/step - loss: 0.0223 - accuracy: 0.9931\n",
            "Epoch 16/20\n",
            "1200/1200 [==============================] - 44s 37ms/step - loss: 0.0207 - accuracy: 0.9941\n",
            "Epoch 17/20\n",
            "1200/1200 [==============================] - 44s 37ms/step - loss: 0.0209 - accuracy: 0.9940\n",
            "Epoch 18/20\n",
            "1200/1200 [==============================] - 44s 37ms/step - loss: 0.0205 - accuracy: 0.9939\n",
            "Epoch 19/20\n",
            "1200/1200 [==============================] - 44s 37ms/step - loss: 0.0173 - accuracy: 0.9947\n",
            "Epoch 20/20\n",
            "1200/1200 [==============================] - 43s 36ms/step - loss: 0.0183 - accuracy: 0.9943\n",
            "313/313 [==============================] - 3s 10ms/step - loss: 0.0359 - accuracy: 0.9929\n"
          ],
          "name": "stdout"
        }
      ]
    },
    {
      "cell_type": "markdown",
      "metadata": {
        "id": "ehIG5o95PYky"
      },
      "source": [
        "**Test**"
      ]
    },
    {
      "cell_type": "code",
      "metadata": {
        "id": "EPDsvLfaPayR",
        "outputId": "36985c83-57fb-419c-c274-d2cce0840ab7",
        "colab": {
          "base_uri": "https://localhost:8080/"
        }
      },
      "source": [
        "predictions = model.evaluate(x_test,y_test)"
      ],
      "execution_count": 18,
      "outputs": [
        {
          "output_type": "stream",
          "text": [
            "313/313 [==============================] - 3s 10ms/step - loss: 0.0359 - accuracy: 0.9929\n"
          ],
          "name": "stdout"
        }
      ]
    }
  ]
}